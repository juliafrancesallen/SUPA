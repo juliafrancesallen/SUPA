{
 "cells": [
  {
   "cell_type": "markdown",
   "id": "607b2a26",
   "metadata": {},
   "source": [
    "# Introduction to Python Assignment \n",
    "\n",
    "Julia Marsh, University of Edinburgh "
   ]
  },
  {
   "cell_type": "markdown",
   "id": "f1db8b27",
   "metadata": {},
   "source": [
    "### Instructions\n",
    "\n",
    "Write a script/module/package in python to do the following:\n",
    "\n",
    "- Find the countries with the lowest and highest emissions in 1960, and similarly in 2018 (ignoring countries with no data for the given year). Print the names of the countries and their emissions for each year.\n",
    "\n",
    "- Find and print the mean and standard deviation of the emissions across all countries in 1960 (ignoring countries that have no data for the given year). Do the same for 2018.\n",
    "\n",
    "- Find the countries with the lowest and highest total emissions summed over all years (ignoring missing years for each country). Print their names and total emissions.\n",
    "\n",
    "- Sum the total emissions for all countries in each region across all years. Print a list of the regions and their total emissions, ordered by their emissions. Do the same grouping the countries by income group.\n",
    "\n",
    "- Similarly to problem 4, group the countries by region, then calculate the total emissions of each region over the years 1960-1969 inclusive. Do the same for each decade up to the 2010s (which will be 2010-2018 as there's no data for 2019). Then, for each decade from 1960s to 2010s, print the regions and their total emissions sorted by emissions. Do the same grouping the countries by income group."
   ]
  },
  {
   "cell_type": "markdown",
   "id": "6671a137",
   "metadata": {},
   "source": [
    "Can only use standard libraries which can be found here: https://docs.python.org/3/library/index.html"
   ]
  },
  {
   "cell_type": "code",
   "execution_count": 1,
   "id": "b68a6e93",
   "metadata": {},
   "outputs": [],
   "source": [
    "#libraries \n",
    "import csv \n",
    "import statistics \n",
    "import itertools "
   ]
  },
  {
   "cell_type": "markdown",
   "id": "31edfdb4",
   "metadata": {},
   "source": [
    "## Task 1 "
   ]
  },
  {
   "cell_type": "code",
   "execution_count": 2,
   "id": "3c14b778",
   "metadata": {},
   "outputs": [],
   "source": [
    "# open file using DictReader - maps dictionaries onto row outputs\n",
    "with open('PerCapitaC02Emissions.csv', newline='') as file:\n",
    "    reader = csv.DictReader(file)\n",
    "\n",
    "    # create empty lists to hold countries and emissions for 1960 and 2018\n",
    "    countries_1960 = []\n",
    "    emissions_1960 = []\n",
    "    countries_2018 = []\n",
    "    emissions_2018 = [] \n",
    "\n",
    "    # loop over all rows and append emission and country names \n",
    "    for row in reader: \n",
    "        # ignore null values \n",
    "        if row['1960'] != '':\n",
    "            # append emission as a float so that max() function works\n",
    "            emissions_1960.append(float(row['1960']))\n",
    "            countries_1960.append(row['Country Name'])\n",
    "        if row['2018'] != '':\n",
    "            emissions_2018.append(float(row['2018']))\n",
    "            countries_2018.append(row['Country Name'])"
   ]
  },
  {
   "cell_type": "code",
   "execution_count": 3,
   "id": "7ab2a423",
   "metadata": {},
   "outputs": [
    {
     "name": "stdout",
     "output_type": "stream",
     "text": [
      "sanity check\n",
      "---------------\n",
      "2018 list lengths: 190 190\n",
      "1960 list lengths: 155 155\n"
     ]
    }
   ],
   "source": [
    "# ---------------------------------------------------------\n",
    "# sanity check - check lengths of lists are the same \n",
    "# ---------------------------------------------------------\n",
    "print(\"sanity check\")\n",
    "print(\"---------------\")\n",
    "\n",
    "print(\"2018 list lengths:\", len(countries_2018), len(emissions_2018))\n",
    "print(\"1960 list lengths:\", len(countries_1960), len(emissions_1960))"
   ]
  },
  {
   "cell_type": "code",
   "execution_count": 4,
   "id": "c083a921",
   "metadata": {
    "scrolled": true
   },
   "outputs": [
    {
     "name": "stdout",
     "output_type": "stream",
     "text": [
      "1960:\n",
      "  max emissions (in tons) was Aruba with 204.631696428571\n",
      "  min emissions (in tons) was Nepal with 0.00798352508545224\n",
      "\n",
      "2018:\n",
      "  max emissions (in tons) was Qatar with 32.4156391708326\n",
      "  min emissions (in tons) was Congo, Dem. Rep. with 0.0261692628875174\n"
     ]
    }
   ],
   "source": [
    "max_1960 = max(emissions_1960)                        # use max() to get maximum emissions \n",
    "max_1960_index = emissions_1960.index(max_1960)       # locate index of max value \n",
    "max_1960_country = countries_1960[max_1960_index]     # find corresponding value in country list \n",
    "\n",
    "max_2018 = max(emissions_2018)\n",
    "max_2018_index = emissions_2018.index(max_2018)\n",
    "max_2018_country = countries_2018[max_2018_index]\n",
    "\n",
    "min_1960 = min(emissions_1960)\n",
    "min_1960_index = emissions_1960.index(min_1960)\n",
    "min_1960_country = countries_1960[min_1960_index]\n",
    "\n",
    "min_2018 = min(emissions_2018)\n",
    "min_2018_index = emissions_2018.index(min_2018)\n",
    "min_2018_country = countries_2018[min_2018_index]\n",
    "\n",
    "print(\"1960:\")\n",
    "print(\"  max emissions (in tons) was\", max_1960_country, \"with\", max_1960)\n",
    "print(\"  min emissions (in tons) was\", min_1960_country, \"with\", min_1960)\n",
    "\n",
    "print(\"\\n2018:\")\n",
    "print(\"  max emissions (in tons) was\", max_2018_country, \"with\", max_2018)\n",
    "print(\"  min emissions (in tons) was\", min_2018_country, \"with\", min_2018)"
   ]
  },
  {
   "cell_type": "markdown",
   "id": "7a8f0836",
   "metadata": {},
   "source": [
    "## Task 2 "
   ]
  },
  {
   "cell_type": "code",
   "execution_count": 5,
   "id": "b95673b8",
   "metadata": {},
   "outputs": [
    {
     "name": "stdout",
     "output_type": "stream",
     "text": [
      "1960:\n",
      "  mean: 3.396899049423549\n",
      "  stdev: 16.87293142556571\n",
      "\n",
      "2018:\n",
      "  mean: 4.186036456835386\n",
      "  stdev: 4.841174757182509\n"
     ]
    }
   ],
   "source": [
    "mean_1960 = statistics.mean(emissions_1960)       # use statistics mean function \n",
    "stdev_1960 = statistics.stdev(emissions_1960)     # use statistics stdev function\n",
    "mean_2018 = statistics.mean(emissions_2018)\n",
    "stdev_2018 = statistics.stdev(emissions_2018)\n",
    "\n",
    "print(\"1960:\")\n",
    "print(\"  mean:\", mean_1960)\n",
    "print(\"  stdev:\", stdev_1960)\n",
    "\n",
    "print(\"\\n2018:\")\n",
    "print(\"  mean:\", mean_2018)\n",
    "print(\"  stdev:\", stdev_2018)"
   ]
  },
  {
   "cell_type": "markdown",
   "id": "0fb38d5e",
   "metadata": {},
   "source": [
    "## Task 3"
   ]
  },
  {
   "cell_type": "code",
   "execution_count": 6,
   "id": "7b8c4856",
   "metadata": {},
   "outputs": [
    {
     "name": "stdout",
     "output_type": "stream",
     "text": [
      "Total emissions:\n",
      "  max (in tons) was Aruba with 5522.3948655893755\n",
      "  min (in tons) was South Sudan with 1.0339785252303502\n"
     ]
    }
   ],
   "source": [
    "# Open file using DictReader \n",
    "with open('PerCapitaC02Emissions.csv', newline='') as file:\n",
    "    reader = csv.DictReader(file)\n",
    "    \n",
    "    # empty lists for country names and total emissions \n",
    "    countries = []\n",
    "    total_emissions = []\n",
    "    # variable used to sum \n",
    "    sum_val = 0\n",
    "\n",
    "    for row in reader: \n",
    "        \n",
    "        # append country name \n",
    "        countries.append(row['Country Name'])\n",
    "        \n",
    "        # create new list by slicing the rows from the third element (1960) to the final element (2018)\n",
    "        for item in list(itertools.islice(row.items(), 3, None)):    # item has form ('year', value)\n",
    "            # ignore null values \n",
    "            if item[1] != '':                                        # item[1] locates the emission value \n",
    "                # sum the emissions for all years as floats \n",
    "                sum_val += float(item[1])\n",
    "        \n",
    "        # append the total value \n",
    "        total_emissions.append(sum_val)\n",
    "        # reset to zero for next row \n",
    "        sum_val = 0\n",
    "        \n",
    "total_max = max(total_emissions)                      # use max() function on total_emissions list \n",
    "total_max_index = total_emissions.index(total_max)    # locate index of max value \n",
    "total_max_country = countries[total_max_index]        # locate corresponding country \n",
    "\n",
    "total_min = min(total_emissions)                      # use min() function on total_emissions list \n",
    "total_min_index = total_emissions.index(total_min)\n",
    "total_min_country = countries[total_min_index]\n",
    "\n",
    "print(\"Total emissions:\")\n",
    "print(\"  max (in tons) was\", total_max_country, \"with\", total_max)\n",
    "print(\"  min (in tons) was\", total_min_country, \"with\", total_min)"
   ]
  },
  {
   "cell_type": "code",
   "execution_count": 7,
   "id": "8febe308",
   "metadata": {},
   "outputs": [
    {
     "name": "stdout",
     "output_type": "stream",
     "text": [
      "sanity check\n",
      "---------------\n",
      "list lengths: 201 201\n",
      "sum total: 49401.02883769895\n"
     ]
    }
   ],
   "source": [
    "# ---------------------------------------------------------\n",
    "# sanity check - check lengths of lists \n",
    "# ---------------------------------------------------------\n",
    "print(\"sanity check\")\n",
    "print(\"---------------\")\n",
    "\n",
    "print(\"list lengths:\", len(countries),len(total_emissions))\n",
    "\n",
    "sum_total = 0\n",
    "for value in total_emissions:\n",
    "    sum_total += value\n",
    "    \n",
    "print(\"sum total:\", sum_total)"
   ]
  },
  {
   "cell_type": "markdown",
   "id": "e1e45308",
   "metadata": {},
   "source": [
    "## Task 4 "
   ]
  },
  {
   "cell_type": "code",
   "execution_count": 8,
   "id": "e3bd374f",
   "metadata": {},
   "outputs": [],
   "source": [
    "# function to identify the keys from the csv file \n",
    "# string argument is a key corresponding to a column name in the csv file \n",
    "def findKeys(string):\n",
    "    \n",
    "    with open('PerCapitaC02Emissions.csv', newline='') as file:\n",
    "        reader = csv.DictReader(file)\n",
    "\n",
    "        all_list = []          # list to hold all keys (including repeats)\n",
    "        unique_list = []       # list to contain unique keys (remove repeats)\n",
    "\n",
    "        for row in reader: \n",
    "            all_list.append(row[string])\n",
    "\n",
    "        # remove repeats \n",
    "        unique_list = list(set(all_list))\n",
    "        \n",
    "        return unique_list"
   ]
  },
  {
   "cell_type": "code",
   "execution_count": 9,
   "id": "8127341e",
   "metadata": {},
   "outputs": [
    {
     "name": "stdout",
     "output_type": "stream",
     "text": [
      "['Europe & Central Asia', 'South Asia', 'Sub-Saharan Africa', 'East Asia & Pacific', 'North America', 'Middle East & North Africa', 'Latin America & Caribbean']\n"
     ]
    }
   ],
   "source": [
    "# identify the unique keys in the region column \n",
    "regions = findKeys('Region')\n",
    "print(regions)"
   ]
  },
  {
   "cell_type": "code",
   "execution_count": 10,
   "id": "4d2f5b32",
   "metadata": {},
   "outputs": [],
   "source": [
    "# function to return a dictionary that is grouped by a column in csv file, e.g. region or income group \n",
    "# arguments: keys_list is a list of unique keys, string is name of column in csv file \n",
    "def createDictionary(keys_list, groupBy_string):\n",
    "    \n",
    "    # create a dictionary and give keys as argument, value is an empty list \n",
    "    dictionary = dict.fromkeys(keys_list, [])\n",
    "    \n",
    "    # loop over each key \n",
    "    for key in dictionary:\n",
    "\n",
    "        # open the file as a dictionary \n",
    "        file = open('PerCapitaC02Emissions.csv', newline='')\n",
    "        reader = csv.DictReader(file)\n",
    "\n",
    "        # create a list to hold country names \n",
    "        list1 = []\n",
    "\n",
    "        # loop over each row in the file\n",
    "        for row in reader:\n",
    "            # if the region of that row matches the key append the country name\n",
    "            if row[groupBy_string] == key: \n",
    "                list1.append(row['Country Name'])\n",
    "\n",
    "        # update the dictionary with list of country names for a given region \n",
    "        dictionary.update({key:list1})\n",
    "        file.close()\n",
    "        \n",
    "    return dictionary"
   ]
  },
  {
   "cell_type": "code",
   "execution_count": 11,
   "id": "243b3b49",
   "metadata": {
    "scrolled": true
   },
   "outputs": [],
   "source": [
    "# create dictionary that is grouped by region \n",
    "dictionary = createDictionary(regions, 'Region')"
   ]
  },
  {
   "cell_type": "code",
   "execution_count": 12,
   "id": "2bcb674f",
   "metadata": {},
   "outputs": [],
   "source": [
    "# function to return the total emissions grouped by the dictionary keys \n",
    "# arguments: dictionary, list of countries, list containing total emissions \n",
    "def TotalEmissions(Dictionary, CountryList, TotalEmissionsList):\n",
    "    \n",
    "    # intialise empty list \n",
    "    empty_list = []\n",
    "\n",
    "    for key in Dictionary:                       # loop over keys in the dictionary \n",
    "\n",
    "        variable_sum = 0                         # variable for summing over \n",
    "\n",
    "        for country in Dictionary[key]:          # loop over countries for a given key \n",
    "\n",
    "            # find the index in the countries list and use in total_emissions list \n",
    "            index = CountryList.index(country)\n",
    "            variable_sum += TotalEmissionsList[index]\n",
    "\n",
    "        # append region (key) and total summed emission \n",
    "        empty_list.append([key, variable_sum])   \n",
    "        \n",
    "    # sort the list into ascending order by the 1st element in the [key, variable] tuple \n",
    "    empty_list.sort(key=lambda tup: tup[1])\n",
    "\n",
    "    return empty_list"
   ]
  },
  {
   "cell_type": "code",
   "execution_count": 13,
   "id": "710d8cdc",
   "metadata": {},
   "outputs": [
    {
     "data": {
      "text/plain": [
       "[['South Asia', 219.1976101891688],\n",
       " ['Sub-Saharan Africa', 1939.531538668807],\n",
       " ['North America', 2233.6767946598297],\n",
       " ['East Asia & Pacific', 7094.603055682899],\n",
       " ['Latin America & Caribbean', 10537.126663155479],\n",
       " ['Middle East & North Africa', 10703.738299857918],\n",
       " ['Europe & Central Asia', 16673.15487548485]]"
      ]
     },
     "execution_count": 13,
     "metadata": {},
     "output_type": "execute_result"
    }
   ],
   "source": [
    "# return total emissions by region\n",
    "TotalEmissions(dictionary, countries, total_emissions)"
   ]
  },
  {
   "cell_type": "code",
   "execution_count": 14,
   "id": "46a2a0dd",
   "metadata": {},
   "outputs": [],
   "source": [
    "# ---------------------------------------------------------\n",
    "# sanity check - check total is the same for both parts \n",
    "# ---------------------------------------------------------\n",
    "\n",
    "regions_total_emissions = TotalEmissions(dictionary, countries, total_emissions)\n",
    "region_total = 0\n",
    "for element in regions_total_emissions:\n",
    "    region_total += element[1]"
   ]
  },
  {
   "cell_type": "markdown",
   "id": "28812ca3",
   "metadata": {},
   "source": [
    "#### Grouping countries by income "
   ]
  },
  {
   "cell_type": "code",
   "execution_count": 15,
   "id": "11a087f3",
   "metadata": {},
   "outputs": [
    {
     "name": "stdout",
     "output_type": "stream",
     "text": [
      "['Lower middle income', 'Low income', 'High income', 'Upper middle income']\n"
     ]
    }
   ],
   "source": [
    "# find keys by income group \n",
    "income_groups = findKeys('IncomeGroup')\n",
    "print(income_groups)"
   ]
  },
  {
   "cell_type": "code",
   "execution_count": 16,
   "id": "10b4c8c2",
   "metadata": {
    "scrolled": true
   },
   "outputs": [],
   "source": [
    "# create a dictionary that is grouped by income \n",
    "income_dictionary = createDictionary(income_groups, 'IncomeGroup')"
   ]
  },
  {
   "cell_type": "code",
   "execution_count": 17,
   "id": "69072816",
   "metadata": {},
   "outputs": [
    {
     "data": {
      "text/plain": [
       "[['Low income', 582.7439992171331],\n",
       " ['Lower middle income', 2607.924706767708],\n",
       " ['Upper middle income', 8450.526479135613],\n",
       " ['High income', 37759.8336525785]]"
      ]
     },
     "execution_count": 17,
     "metadata": {},
     "output_type": "execute_result"
    }
   ],
   "source": [
    "# return total emissions by income group \n",
    "TotalEmissions(income_dictionary, countries, total_emissions)"
   ]
  },
  {
   "cell_type": "code",
   "execution_count": 18,
   "id": "76641929",
   "metadata": {},
   "outputs": [
    {
     "name": "stdout",
     "output_type": "stream",
     "text": [
      "sanity check\n",
      "---------------\n",
      "By region sum total: 49401.02883769895\n",
      "By income sum total: 49401.02883769895\n"
     ]
    }
   ],
   "source": [
    "# ---------------------------------------------------------\n",
    "# sanity check - check total is the same for both parts \n",
    "# ---------------------------------------------------------\n",
    "\n",
    "print(\"sanity check\")\n",
    "print(\"---------------\")\n",
    "\n",
    "income_total_emissions = TotalEmissions(income_dictionary, countries, total_emissions)\n",
    "income_total = 0\n",
    "for element in income_total_emissions:\n",
    "    income_total += element[1]\n",
    "    \n",
    "print(\"By region sum total:\", region_total)\n",
    "print(\"By income sum total:\", income_total)"
   ]
  },
  {
   "cell_type": "markdown",
   "id": "9d9327c8",
   "metadata": {},
   "source": [
    "## Task 5 "
   ]
  },
  {
   "cell_type": "markdown",
   "id": "04fe8dec",
   "metadata": {},
   "source": [
    "Group by region then calculate total emissions for each decade e.g. 1960-69, 1970-79, ... Print regions and total emissions in order. \n"
   ]
  },
  {
   "cell_type": "code",
   "execution_count": 19,
   "id": "8f19d8d4",
   "metadata": {
    "scrolled": true
   },
   "outputs": [],
   "source": [
    "# decades list - elements used to edit the region used in islice()\n",
    "decades = [0, 10, 20, 30, 40, 50]\n",
    "\n",
    "# total emissions will be appened for each decade \n",
    "total_emissions_decades = []  # expect list to have length=6*201 as every country is appended once for each decade \n",
    "countries_decades = []        # list to keep track of countries - also expect len=6*201\n",
    "arg_sum = 0                   # variable to sum over \n",
    "    \n",
    "# loop over elements in decade list \n",
    "for value in decades:\n",
    "    \n",
    "    # open the file as a dictionary \n",
    "    file = open('PerCapitaC02Emissions.csv', newline='')\n",
    "    reader = csv.DictReader(file)\n",
    "    \n",
    "    # set the start stop arguments for islice - change for each decade \n",
    "    lower = 3 + value\n",
    "    upper = 13 + value\n",
    "    \n",
    "    # loop over each row \n",
    "    for row in reader: \n",
    "        \n",
    "        countries_decades.append(row['Country Name'])\n",
    "        \n",
    "        # slice according to decade (e.g. 3=1960, 13=1969, add 10 and you get 1970 and 1979)\n",
    "        for item in list(itertools.islice(row.items(), lower, upper)):\n",
    "            if item[1] != '':\n",
    "                arg_sum += float(item[1])\n",
    "            else:\n",
    "                arg_sum += 0 \n",
    "        \n",
    "        # append the total emission for that decade \n",
    "        total_emissions_decades.append(arg_sum)\n",
    "        arg_sum = 0\n",
    "    \n",
    "    file.close()"
   ]
  },
  {
   "cell_type": "code",
   "execution_count": 20,
   "id": "524c573f",
   "metadata": {
    "scrolled": true
   },
   "outputs": [
    {
     "name": "stdout",
     "output_type": "stream",
     "text": [
      "sanity check\n",
      "---------------\n",
      "1206 1206 1206\n"
     ]
    }
   ],
   "source": [
    "# --------------------------------\n",
    "# sanity check - list should be 6 times (6 decades) the length of the total number of countries \n",
    "# --------------------------------\n",
    "\n",
    "print(\"sanity check\")\n",
    "print(\"---------------\")\n",
    "\n",
    "print(201*6, len(countries_decades), len(total_emissions_decades))"
   ]
  },
  {
   "cell_type": "code",
   "execution_count": 21,
   "id": "1a75752d",
   "metadata": {
    "scrolled": true
   },
   "outputs": [
    {
     "name": "stdout",
     "output_type": "stream",
     "text": [
      "sanity check\n",
      "---------------\n",
      "201 201 201 201 201 201\n"
     ]
    }
   ],
   "source": [
    "# slice total_emissions_decades list to get new list for each decade \n",
    "total_emissions_60s = total_emissions_decades[0:201]\n",
    "total_emissions_70s = total_emissions_decades[201:402]\n",
    "total_emissions_80s = total_emissions_decades[402:603]\n",
    "total_emissions_90s = total_emissions_decades[603:804]\n",
    "total_emissions_00s = total_emissions_decades[804:1005]\n",
    "total_emissions_10s = total_emissions_decades[1005:]\n",
    "country_names = countries_decades[0:201]\n",
    "\n",
    "# --------------------------------\n",
    "# sanity check \n",
    "# --------------------------------\n",
    "\n",
    "print(\"sanity check\")\n",
    "print(\"---------------\")\n",
    "\n",
    "print(len(total_emissions_60s),len(total_emissions_70s),len(total_emissions_80s),len(total_emissions_90s),\n",
    "len(total_emissions_00s),len(total_emissions_10s))"
   ]
  },
  {
   "cell_type": "markdown",
   "id": "49d25247",
   "metadata": {},
   "source": [
    "#### Total emissions grouped by region for each decade "
   ]
  },
  {
   "cell_type": "code",
   "execution_count": 22,
   "id": "7d7a4126",
   "metadata": {
    "scrolled": true
   },
   "outputs": [
    {
     "data": {
      "text/plain": [
       "[['South Asia', 14.006229136608765],\n",
       " ['Sub-Saharan Africa', 141.19461467495648],\n",
       " ['North America', 336.64037298379844],\n",
       " ['East Asia & Pacific', 612.2053854943763],\n",
       " ['Middle East & North Africa', 1474.9529534016938],\n",
       " ['Europe & Central Asia', 1883.4320464099462],\n",
       " ['Latin America & Caribbean', 2556.6363675215066]]"
      ]
     },
     "execution_count": 22,
     "metadata": {},
     "output_type": "execute_result"
    }
   ],
   "source": [
    "TotalEmissions(dictionary, country_names, total_emissions_60s)"
   ]
  },
  {
   "cell_type": "code",
   "execution_count": 24,
   "id": "cd2d4f37",
   "metadata": {},
   "outputs": [
    {
     "data": {
      "text/plain": [
       "[['South Asia', 13.885339258373193],\n",
       " ['Sub-Saharan Africa', 290.2534699809034],\n",
       " ['North America', 456.76106769885826],\n",
       " ['East Asia & Pacific', 1587.8528696121543],\n",
       " ['Middle East & North Africa', 2251.9756653193003],\n",
       " ['Europe & Central Asia', 2518.871636256716],\n",
       " ['Latin America & Caribbean', 3370.5322618335804]]"
      ]
     },
     "execution_count": 24,
     "metadata": {},
     "output_type": "execute_result"
    }
   ],
   "source": [
    "TotalEmissions(dictionary, country_names, total_emissions_70s)"
   ]
  },
  {
   "cell_type": "code",
   "execution_count": 25,
   "id": "bf6f9a7d",
   "metadata": {},
   "outputs": [
    {
     "data": {
      "text/plain": [
       "[['South Asia', 21.388373625406963],\n",
       " ['Sub-Saharan Africa', 317.2505884887202],\n",
       " ['North America', 448.1656010532347],\n",
       " ['East Asia & Pacific', 1338.581405342321],\n",
       " ['Middle East & North Africa', 1722.9032856757535],\n",
       " ['Latin America & Caribbean', 2020.5984244073766],\n",
       " ['Europe & Central Asia', 2470.6329665252892]]"
      ]
     },
     "execution_count": 25,
     "metadata": {},
     "output_type": "execute_result"
    }
   ],
   "source": [
    "TotalEmissions(dictionary, country_names, total_emissions_80s)"
   ]
  },
  {
   "cell_type": "code",
   "execution_count": 26,
   "id": "86cb5b95",
   "metadata": {},
   "outputs": [
    {
     "data": {
      "text/plain": [
       "[['South Asia', 35.20258929288999],\n",
       " ['Sub-Saharan Africa', 320.12948173330386],\n",
       " ['North America', 349.7013337749195],\n",
       " ['Latin America & Caribbean', 759.2621918495278],\n",
       " ['East Asia & Pacific', 1126.8641429120423],\n",
       " ['Middle East & North Africa', 1662.5503261891874],\n",
       " ['Europe & Central Asia', 3582.2017346543735]]"
      ]
     },
     "execution_count": 26,
     "metadata": {},
     "output_type": "execute_result"
    }
   ],
   "source": [
    "TotalEmissions(dictionary, country_names, total_emissions_90s)"
   ]
  },
  {
   "cell_type": "code",
   "execution_count": 27,
   "id": "1e2e2f3c",
   "metadata": {},
   "outputs": [
    {
     "data": {
      "text/plain": [
       "[['South Asia', 56.527282263621046],\n",
       " ['North America', 358.82437300255924],\n",
       " ['Sub-Saharan Africa', 455.60725730112455],\n",
       " ['Latin America & Caribbean', 950.698010809086],\n",
       " ['East Asia & Pacific', 1237.18901134212],\n",
       " ['Middle East & North Africa', 1937.2744963737198],\n",
       " ['Europe & Central Asia', 3422.719897763057]]"
      ]
     },
     "execution_count": 27,
     "metadata": {},
     "output_type": "execute_result"
    }
   ],
   "source": [
    "TotalEmissions(dictionary, country_names, total_emissions_00s)"
   ]
  },
  {
   "cell_type": "code",
   "execution_count": 28,
   "id": "819b2ca7",
   "metadata": {
    "scrolled": false
   },
   "outputs": [
    {
     "data": {
      "text/plain": [
       "[['South Asia', 78.18779661226884],\n",
       " ['North America', 283.58404614645974],\n",
       " ['Sub-Saharan Africa', 415.0961264897986],\n",
       " ['Latin America & Caribbean', 879.3994067344038],\n",
       " ['East Asia & Pacific', 1191.910240979883],\n",
       " ['Middle East & North Africa', 1654.0815728982632],\n",
       " ['Europe & Central Asia', 2795.2965938754687]]"
      ]
     },
     "execution_count": 28,
     "metadata": {},
     "output_type": "execute_result"
    }
   ],
   "source": [
    "TotalEmissions(dictionary, country_names, total_emissions_10s)"
   ]
  },
  {
   "cell_type": "markdown",
   "id": "d9f08ec5",
   "metadata": {},
   "source": [
    "#### Total emissions for each region grouped by income group "
   ]
  },
  {
   "cell_type": "code",
   "execution_count": 29,
   "id": "407ce50d",
   "metadata": {},
   "outputs": [
    {
     "data": {
      "text/plain": [
       "[['Low income', 63.82076639324335],\n",
       " ['Lower middle income', 170.63442396633405],\n",
       " ['Upper middle income', 648.4237161755752],\n",
       " ['High income', 6136.189063087734]]"
      ]
     },
     "execution_count": 29,
     "metadata": {},
     "output_type": "execute_result"
    }
   ],
   "source": [
    "TotalEmissions(income_dictionary, country_names, total_emissions_60s)"
   ]
  },
  {
   "cell_type": "code",
   "execution_count": 30,
   "id": "45094e64",
   "metadata": {},
   "outputs": [
    {
     "data": {
      "text/plain": [
       "[['Low income', 116.8300137598543],\n",
       " ['Lower middle income', 297.05628840056335],\n",
       " ['Upper middle income', 1091.8619361933079],\n",
       " ['High income', 8984.384071606162]]"
      ]
     },
     "execution_count": 30,
     "metadata": {},
     "output_type": "execute_result"
    }
   ],
   "source": [
    "TotalEmissions(income_dictionary, country_names, total_emissions_70s)"
   ]
  },
  {
   "cell_type": "code",
   "execution_count": 31,
   "id": "d10d541d",
   "metadata": {},
   "outputs": [
    {
     "data": {
      "text/plain": [
       "[['Low income', 141.91941105219456],\n",
       " ['Lower middle income', 331.1728242683064],\n",
       " ['Upper middle income', 1252.159142448615],\n",
       " ['High income', 6614.269267348988]]"
      ]
     },
     "execution_count": 31,
     "metadata": {},
     "output_type": "execute_result"
    }
   ],
   "source": [
    "TotalEmissions(income_dictionary, country_names, total_emissions_80s)"
   ]
  },
  {
   "cell_type": "code",
   "execution_count": 32,
   "id": "481a9d9f",
   "metadata": {},
   "outputs": [
    {
     "data": {
      "text/plain": [
       "[['Low income', 96.75965360819824],\n",
       " ['Lower middle income', 559.4441862032044],\n",
       " ['Upper middle income', 1700.5230377723906],\n",
       " ['High income', 5479.184922822452]]"
      ]
     },
     "execution_count": 32,
     "metadata": {},
     "output_type": "execute_result"
    }
   ],
   "source": [
    "TotalEmissions(income_dictionary, country_names, total_emissions_90s)"
   ]
  },
  {
   "cell_type": "code",
   "execution_count": 33,
   "id": "b7f4b1bb",
   "metadata": {},
   "outputs": [
    {
     "data": {
      "text/plain": [
       "[['Low income', 94.50833361391513],\n",
       " ['Lower middle income', 605.7322751977937],\n",
       " ['Upper middle income', 1874.6819788655791],\n",
       " ['High income', 5843.917741177997]]"
      ]
     },
     "execution_count": 33,
     "metadata": {},
     "output_type": "execute_result"
    }
   ],
   "source": [
    "TotalEmissions(income_dictionary, country_names, total_emissions_00s)"
   ]
  },
  {
   "cell_type": "code",
   "execution_count": 34,
   "id": "cfd61162",
   "metadata": {},
   "outputs": [
    {
     "data": {
      "text/plain": [
       "[['Low income', 68.90582078972756],\n",
       " ['Lower middle income', 643.8847087315065],\n",
       " ['Upper middle income', 1882.8766676801413],\n",
       " ['High income', 4701.888586535169]]"
      ]
     },
     "execution_count": 34,
     "metadata": {},
     "output_type": "execute_result"
    }
   ],
   "source": [
    "TotalEmissions(income_dictionary, country_names, total_emissions_10s)"
   ]
  }
 ],
 "metadata": {
  "kernelspec": {
   "display_name": "Python 3 (ipykernel)",
   "language": "python",
   "name": "python3"
  },
  "language_info": {
   "codemirror_mode": {
    "name": "ipython",
    "version": 3
   },
   "file_extension": ".py",
   "mimetype": "text/x-python",
   "name": "python",
   "nbconvert_exporter": "python",
   "pygments_lexer": "ipython3",
   "version": "3.8.8"
  }
 },
 "nbformat": 4,
 "nbformat_minor": 5
}
